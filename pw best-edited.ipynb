{
 "cells": [
  {
   "cell_type": "code",
   "execution_count": 35,
   "id": "5e7d9c9a",
   "metadata": {},
   "outputs": [],
   "source": [
    "from bs4 import BeautifulSoup as soup\n",
    "from matplotlib import pyplot as plt\n",
    "import pandas as pd\n",
    "import numpy as np\n",
    "from urllib.request import urlopen as uReq\n",
    "my_url = \"https://www.lottonumbers.com/south-africa-powerball-results-2021\""
   ]
  },
  {
   "cell_type": "code",
   "execution_count": 2,
   "id": "15fcf9c1",
   "metadata": {},
   "outputs": [],
   "source": [
    "# opening up connection, grabbing the page\n",
    "uClient = uReq(my_url)\n",
    "page_html = uClient.read()\n",
    "uClient.close()"
   ]
  },
  {
   "cell_type": "code",
   "execution_count": 3,
   "id": "fd8ed519",
   "metadata": {},
   "outputs": [],
   "source": [
    "#html parsing\n",
    "page_soup = soup(page_html, \"html.parser\")"
   ]
  },
  {
   "cell_type": "code",
   "execution_count": 4,
   "id": "d9d3ec62",
   "metadata": {},
   "outputs": [
    {
     "data": {
      "text/plain": [
       "33"
      ]
     },
     "execution_count": 4,
     "metadata": {},
     "output_type": "execute_result"
    }
   ],
   "source": [
    "#open file name\n",
    "filename = \"PowerBall.csv\"\n",
    "f = open(filename, \"w\")\n",
    "\n",
    "headers = \"div1, div2, div3, div4, div5, pb\\n\"\n",
    "\n",
    "f.write(headers)"
   ]
  },
  {
   "cell_type": "markdown",
   "id": "833f3f2a",
   "metadata": {},
   "source": [
    "## gradding numbers and saving as a dictionary "
   ]
  },
  {
   "cell_type": "code",
   "execution_count": 5,
   "id": "a089dcd8",
   "metadata": {},
   "outputs": [
    {
     "name": "stdout",
     "output_type": "stream",
     "text": [
      "{'24,25,38,40,49,2': 1, '13,15,20,28,29,15': 1, '14,17,24,31,43,15': 1, '18,26,41,44,47,4': 1, '8,10,17,26,39,14': 1, '16,18,23,31,35,10': 1, '8,12,17,28,43,13': 1, '2,11,13,19,40,2': 1, '2,9,18,42,43,8': 1, '9,10,35,42,48,20': 1, '6,10,11,45,47,13': 1, '21,23,34,35,41,9': 1, '6,21,33,37,50,18': 1, '10,18,23,30,48,1': 1, '5,23,41,42,50,2': 1, '1,4,12,13,33,6': 1, '7,13,18,20,25,6': 1, '8,16,18,30,34,4': 1, '4,12,27,35,50,1': 1, '5,12,15,28,29,14': 1, '21,45,47,48,49,18': 1, '7,32,33,40,42,6': 1, '20,22,25,41,45,5': 1, '2,28,29,38,42,2': 1, '3,12,29,31,38,15': 1, '1,16,18,26,39,8': 1, '20,30,34,38,43,7': 1, '6,35,41,43,45,4': 1, '4,16,34,36,46,6': 1, '3,11,24,33,41,16': 1, '3,8,19,28,49,11': 1, '13,23,24,27,44,10': 1, '9,12,27,37,48,7': 1, '1,3,17,28,50,7': 1, '17,34,37,39,44,10': 1, '3,5,23,37,42,11': 1, '31,33,36,38,44,4': 1, '3,4,8,25,44,15': 1, '19,21,24,45,50,5': 1, '4,11,30,35,45,12': 1, '3,16,28,31,48,11': 1, '4,10,17,29,38,20': 1, '4,7,19,20,49,19': 1, '3,9,17,25,39,13': 1, '6,12,22,38,45,4': 1, '1,8,22,29,49,18': 1, '5,14,19,30,35,12': 1, '3,5,12,32,49,19': 1, '2,5,12,25,49,20': 1, '6,8,22,31,42,15': 1, '18,31,39,45,46,17': 1, '3,13,21,42,45,8': 1, '4,8,15,25,26,17': 1, '7,16,24,25,38,9': 1, '5,25,27,42,47,15': 1, '7,9,10,18,34,16': 1, '5,16,27,32,46,18': 1, '11,20,21,32,36,18': 1, '7,15,29,34,39,2': 1, '28,30,36,37,41,7': 1, '6,15,39,40,48,17': 1, '1,11,21,32,42,11': 1, '1,3,7,41,44,11': 1, '8,13,25,32,42,16': 1, '3,17,20,25,47,3': 1, '5,18,31,36,45,8': 1, '3,15,35,39,41,5': 1, '4,7,15,30,32,10': 1, '8,16,19,20,50,18': 1, '6,13,22,34,49,10': 1, '2,11,16,22,47,19': 1, '4,8,12,15,19,17': 1, '11,14,36,37,44,19': 1, '13,16,28,42,45,11': 1, '24,31,40,45,48,20': 1, '11,13,28,36,37,15': 1, '11,16,28,32,41,6': 1, '4,17,42,46,48,14': 1}\n"
     ]
    }
   ],
   "source": [
    "#grad division numbers\n",
    "div = dict()\n",
    "for i in range(78):\n",
    "    nb2 = page_soup.findAll('ul', {'class': 'balls -cn'})[i].text.strip().replace('\\n', ',')\n",
    "    if nb2 not in div:\n",
    "        div[nb2] = 1\n",
    "    else:\n",
    "        div[nb2] += 1\n",
    "print(div)"
   ]
  },
  {
   "cell_type": "code",
   "execution_count": 6,
   "id": "33b689ce",
   "metadata": {},
   "outputs": [
    {
     "data": {
      "text/html": [
       "<div>\n",
       "<style scoped>\n",
       "    .dataframe tbody tr th:only-of-type {\n",
       "        vertical-align: middle;\n",
       "    }\n",
       "\n",
       "    .dataframe tbody tr th {\n",
       "        vertical-align: top;\n",
       "    }\n",
       "\n",
       "    .dataframe thead th {\n",
       "        text-align: right;\n",
       "    }\n",
       "</style>\n",
       "<table border=\"1\" class=\"dataframe\">\n",
       "  <thead>\n",
       "    <tr style=\"text-align: right;\">\n",
       "      <th></th>\n",
       "      <th>Numbers</th>\n",
       "    </tr>\n",
       "  </thead>\n",
       "  <tbody>\n",
       "    <tr>\n",
       "      <th>0</th>\n",
       "      <td>24,25,38,40,49,2</td>\n",
       "    </tr>\n",
       "    <tr>\n",
       "      <th>1</th>\n",
       "      <td>13,15,20,28,29,15</td>\n",
       "    </tr>\n",
       "    <tr>\n",
       "      <th>2</th>\n",
       "      <td>14,17,24,31,43,15</td>\n",
       "    </tr>\n",
       "    <tr>\n",
       "      <th>3</th>\n",
       "      <td>18,26,41,44,47,4</td>\n",
       "    </tr>\n",
       "    <tr>\n",
       "      <th>4</th>\n",
       "      <td>8,10,17,26,39,14</td>\n",
       "    </tr>\n",
       "    <tr>\n",
       "      <th>...</th>\n",
       "      <td>...</td>\n",
       "    </tr>\n",
       "    <tr>\n",
       "      <th>73</th>\n",
       "      <td>13,16,28,42,45,11</td>\n",
       "    </tr>\n",
       "    <tr>\n",
       "      <th>74</th>\n",
       "      <td>24,31,40,45,48,20</td>\n",
       "    </tr>\n",
       "    <tr>\n",
       "      <th>75</th>\n",
       "      <td>11,13,28,36,37,15</td>\n",
       "    </tr>\n",
       "    <tr>\n",
       "      <th>76</th>\n",
       "      <td>11,16,28,32,41,6</td>\n",
       "    </tr>\n",
       "    <tr>\n",
       "      <th>77</th>\n",
       "      <td>4,17,42,46,48,14</td>\n",
       "    </tr>\n",
       "  </tbody>\n",
       "</table>\n",
       "<p>78 rows × 1 columns</p>\n",
       "</div>"
      ],
      "text/plain": [
       "              Numbers\n",
       "0    24,25,38,40,49,2\n",
       "1   13,15,20,28,29,15\n",
       "2   14,17,24,31,43,15\n",
       "3    18,26,41,44,47,4\n",
       "4    8,10,17,26,39,14\n",
       "..                ...\n",
       "73  13,16,28,42,45,11\n",
       "74  24,31,40,45,48,20\n",
       "75  11,13,28,36,37,15\n",
       "76   11,16,28,32,41,6\n",
       "77   4,17,42,46,48,14\n",
       "\n",
       "[78 rows x 1 columns]"
      ]
     },
     "execution_count": 6,
     "metadata": {},
     "output_type": "execute_result"
    }
   ],
   "source": [
    "df= pd.DataFrame(div.keys(), columns=['Numbers'])\n",
    "df"
   ]
  },
  {
   "cell_type": "markdown",
   "id": "af1270a9",
   "metadata": {},
   "source": [
    "## seperate  one column into 6"
   ]
  },
  {
   "cell_type": "code",
   "execution_count": 7,
   "id": "7912f657",
   "metadata": {},
   "outputs": [
    {
     "data": {
      "text/html": [
       "<div>\n",
       "<style scoped>\n",
       "    .dataframe tbody tr th:only-of-type {\n",
       "        vertical-align: middle;\n",
       "    }\n",
       "\n",
       "    .dataframe tbody tr th {\n",
       "        vertical-align: top;\n",
       "    }\n",
       "\n",
       "    .dataframe thead th {\n",
       "        text-align: right;\n",
       "    }\n",
       "</style>\n",
       "<table border=\"1\" class=\"dataframe\">\n",
       "  <thead>\n",
       "    <tr style=\"text-align: right;\">\n",
       "      <th></th>\n",
       "      <th>Numbers</th>\n",
       "      <th>div1</th>\n",
       "      <th>div2</th>\n",
       "      <th>div3</th>\n",
       "      <th>div4</th>\n",
       "      <th>div5</th>\n",
       "      <th>pb</th>\n",
       "    </tr>\n",
       "  </thead>\n",
       "  <tbody>\n",
       "    <tr>\n",
       "      <th>0</th>\n",
       "      <td>24,25,38,40,49,2</td>\n",
       "      <td>24</td>\n",
       "      <td>25</td>\n",
       "      <td>38</td>\n",
       "      <td>40</td>\n",
       "      <td>49</td>\n",
       "      <td>2</td>\n",
       "    </tr>\n",
       "    <tr>\n",
       "      <th>1</th>\n",
       "      <td>13,15,20,28,29,15</td>\n",
       "      <td>13</td>\n",
       "      <td>15</td>\n",
       "      <td>20</td>\n",
       "      <td>28</td>\n",
       "      <td>29</td>\n",
       "      <td>15</td>\n",
       "    </tr>\n",
       "    <tr>\n",
       "      <th>2</th>\n",
       "      <td>14,17,24,31,43,15</td>\n",
       "      <td>14</td>\n",
       "      <td>17</td>\n",
       "      <td>24</td>\n",
       "      <td>31</td>\n",
       "      <td>43</td>\n",
       "      <td>15</td>\n",
       "    </tr>\n",
       "    <tr>\n",
       "      <th>3</th>\n",
       "      <td>18,26,41,44,47,4</td>\n",
       "      <td>18</td>\n",
       "      <td>26</td>\n",
       "      <td>41</td>\n",
       "      <td>44</td>\n",
       "      <td>47</td>\n",
       "      <td>4</td>\n",
       "    </tr>\n",
       "    <tr>\n",
       "      <th>4</th>\n",
       "      <td>8,10,17,26,39,14</td>\n",
       "      <td>8</td>\n",
       "      <td>10</td>\n",
       "      <td>17</td>\n",
       "      <td>26</td>\n",
       "      <td>39</td>\n",
       "      <td>14</td>\n",
       "    </tr>\n",
       "    <tr>\n",
       "      <th>...</th>\n",
       "      <td>...</td>\n",
       "      <td>...</td>\n",
       "      <td>...</td>\n",
       "      <td>...</td>\n",
       "      <td>...</td>\n",
       "      <td>...</td>\n",
       "      <td>...</td>\n",
       "    </tr>\n",
       "    <tr>\n",
       "      <th>73</th>\n",
       "      <td>13,16,28,42,45,11</td>\n",
       "      <td>13</td>\n",
       "      <td>16</td>\n",
       "      <td>28</td>\n",
       "      <td>42</td>\n",
       "      <td>45</td>\n",
       "      <td>11</td>\n",
       "    </tr>\n",
       "    <tr>\n",
       "      <th>74</th>\n",
       "      <td>24,31,40,45,48,20</td>\n",
       "      <td>24</td>\n",
       "      <td>31</td>\n",
       "      <td>40</td>\n",
       "      <td>45</td>\n",
       "      <td>48</td>\n",
       "      <td>20</td>\n",
       "    </tr>\n",
       "    <tr>\n",
       "      <th>75</th>\n",
       "      <td>11,13,28,36,37,15</td>\n",
       "      <td>11</td>\n",
       "      <td>13</td>\n",
       "      <td>28</td>\n",
       "      <td>36</td>\n",
       "      <td>37</td>\n",
       "      <td>15</td>\n",
       "    </tr>\n",
       "    <tr>\n",
       "      <th>76</th>\n",
       "      <td>11,16,28,32,41,6</td>\n",
       "      <td>11</td>\n",
       "      <td>16</td>\n",
       "      <td>28</td>\n",
       "      <td>32</td>\n",
       "      <td>41</td>\n",
       "      <td>6</td>\n",
       "    </tr>\n",
       "    <tr>\n",
       "      <th>77</th>\n",
       "      <td>4,17,42,46,48,14</td>\n",
       "      <td>4</td>\n",
       "      <td>17</td>\n",
       "      <td>42</td>\n",
       "      <td>46</td>\n",
       "      <td>48</td>\n",
       "      <td>14</td>\n",
       "    </tr>\n",
       "  </tbody>\n",
       "</table>\n",
       "<p>78 rows × 7 columns</p>\n",
       "</div>"
      ],
      "text/plain": [
       "              Numbers div1 div2 div3 div4 div5  pb\n",
       "0    24,25,38,40,49,2   24   25   38   40   49   2\n",
       "1   13,15,20,28,29,15   13   15   20   28   29  15\n",
       "2   14,17,24,31,43,15   14   17   24   31   43  15\n",
       "3    18,26,41,44,47,4   18   26   41   44   47   4\n",
       "4    8,10,17,26,39,14    8   10   17   26   39  14\n",
       "..                ...  ...  ...  ...  ...  ...  ..\n",
       "73  13,16,28,42,45,11   13   16   28   42   45  11\n",
       "74  24,31,40,45,48,20   24   31   40   45   48  20\n",
       "75  11,13,28,36,37,15   11   13   28   36   37  15\n",
       "76   11,16,28,32,41,6   11   16   28   32   41   6\n",
       "77   4,17,42,46,48,14    4   17   42   46   48  14\n",
       "\n",
       "[78 rows x 7 columns]"
      ]
     },
     "execution_count": 7,
     "metadata": {},
     "output_type": "execute_result"
    }
   ],
   "source": [
    "df[['div1','div2', 'div3', 'div4', 'div5', 'pb']] = df.Numbers.str.split(\",\",expand=True)\n",
    "df"
   ]
  },
  {
   "cell_type": "markdown",
   "id": "a752bfb7",
   "metadata": {},
   "source": [
    "## Drop the 'Numbers' column"
   ]
  },
  {
   "cell_type": "code",
   "execution_count": 8,
   "id": "56062b4b",
   "metadata": {},
   "outputs": [
    {
     "data": {
      "text/html": [
       "<div>\n",
       "<style scoped>\n",
       "    .dataframe tbody tr th:only-of-type {\n",
       "        vertical-align: middle;\n",
       "    }\n",
       "\n",
       "    .dataframe tbody tr th {\n",
       "        vertical-align: top;\n",
       "    }\n",
       "\n",
       "    .dataframe thead th {\n",
       "        text-align: right;\n",
       "    }\n",
       "</style>\n",
       "<table border=\"1\" class=\"dataframe\">\n",
       "  <thead>\n",
       "    <tr style=\"text-align: right;\">\n",
       "      <th></th>\n",
       "      <th>div1</th>\n",
       "      <th>div2</th>\n",
       "      <th>div3</th>\n",
       "      <th>div4</th>\n",
       "      <th>div5</th>\n",
       "      <th>pb</th>\n",
       "    </tr>\n",
       "  </thead>\n",
       "  <tbody>\n",
       "    <tr>\n",
       "      <th>0</th>\n",
       "      <td>24</td>\n",
       "      <td>25</td>\n",
       "      <td>38</td>\n",
       "      <td>40</td>\n",
       "      <td>49</td>\n",
       "      <td>2</td>\n",
       "    </tr>\n",
       "    <tr>\n",
       "      <th>1</th>\n",
       "      <td>13</td>\n",
       "      <td>15</td>\n",
       "      <td>20</td>\n",
       "      <td>28</td>\n",
       "      <td>29</td>\n",
       "      <td>15</td>\n",
       "    </tr>\n",
       "    <tr>\n",
       "      <th>2</th>\n",
       "      <td>14</td>\n",
       "      <td>17</td>\n",
       "      <td>24</td>\n",
       "      <td>31</td>\n",
       "      <td>43</td>\n",
       "      <td>15</td>\n",
       "    </tr>\n",
       "    <tr>\n",
       "      <th>3</th>\n",
       "      <td>18</td>\n",
       "      <td>26</td>\n",
       "      <td>41</td>\n",
       "      <td>44</td>\n",
       "      <td>47</td>\n",
       "      <td>4</td>\n",
       "    </tr>\n",
       "    <tr>\n",
       "      <th>4</th>\n",
       "      <td>8</td>\n",
       "      <td>10</td>\n",
       "      <td>17</td>\n",
       "      <td>26</td>\n",
       "      <td>39</td>\n",
       "      <td>14</td>\n",
       "    </tr>\n",
       "    <tr>\n",
       "      <th>...</th>\n",
       "      <td>...</td>\n",
       "      <td>...</td>\n",
       "      <td>...</td>\n",
       "      <td>...</td>\n",
       "      <td>...</td>\n",
       "      <td>...</td>\n",
       "    </tr>\n",
       "    <tr>\n",
       "      <th>73</th>\n",
       "      <td>13</td>\n",
       "      <td>16</td>\n",
       "      <td>28</td>\n",
       "      <td>42</td>\n",
       "      <td>45</td>\n",
       "      <td>11</td>\n",
       "    </tr>\n",
       "    <tr>\n",
       "      <th>74</th>\n",
       "      <td>24</td>\n",
       "      <td>31</td>\n",
       "      <td>40</td>\n",
       "      <td>45</td>\n",
       "      <td>48</td>\n",
       "      <td>20</td>\n",
       "    </tr>\n",
       "    <tr>\n",
       "      <th>75</th>\n",
       "      <td>11</td>\n",
       "      <td>13</td>\n",
       "      <td>28</td>\n",
       "      <td>36</td>\n",
       "      <td>37</td>\n",
       "      <td>15</td>\n",
       "    </tr>\n",
       "    <tr>\n",
       "      <th>76</th>\n",
       "      <td>11</td>\n",
       "      <td>16</td>\n",
       "      <td>28</td>\n",
       "      <td>32</td>\n",
       "      <td>41</td>\n",
       "      <td>6</td>\n",
       "    </tr>\n",
       "    <tr>\n",
       "      <th>77</th>\n",
       "      <td>4</td>\n",
       "      <td>17</td>\n",
       "      <td>42</td>\n",
       "      <td>46</td>\n",
       "      <td>48</td>\n",
       "      <td>14</td>\n",
       "    </tr>\n",
       "  </tbody>\n",
       "</table>\n",
       "<p>78 rows × 6 columns</p>\n",
       "</div>"
      ],
      "text/plain": [
       "   div1 div2 div3 div4 div5  pb\n",
       "0    24   25   38   40   49   2\n",
       "1    13   15   20   28   29  15\n",
       "2    14   17   24   31   43  15\n",
       "3    18   26   41   44   47   4\n",
       "4     8   10   17   26   39  14\n",
       "..  ...  ...  ...  ...  ...  ..\n",
       "73   13   16   28   42   45  11\n",
       "74   24   31   40   45   48  20\n",
       "75   11   13   28   36   37  15\n",
       "76   11   16   28   32   41   6\n",
       "77    4   17   42   46   48  14\n",
       "\n",
       "[78 rows x 6 columns]"
      ]
     },
     "execution_count": 8,
     "metadata": {},
     "output_type": "execute_result"
    }
   ],
   "source": [
    "del df['Numbers']\n",
    "df"
   ]
  },
  {
   "cell_type": "code",
   "execution_count": 9,
   "id": "98ba720e",
   "metadata": {},
   "outputs": [
    {
     "data": {
      "text/html": [
       "<div>\n",
       "<style scoped>\n",
       "    .dataframe tbody tr th:only-of-type {\n",
       "        vertical-align: middle;\n",
       "    }\n",
       "\n",
       "    .dataframe tbody tr th {\n",
       "        vertical-align: top;\n",
       "    }\n",
       "\n",
       "    .dataframe thead th {\n",
       "        text-align: right;\n",
       "    }\n",
       "</style>\n",
       "<table border=\"1\" class=\"dataframe\">\n",
       "  <thead>\n",
       "    <tr style=\"text-align: right;\">\n",
       "      <th></th>\n",
       "      <th>div1</th>\n",
       "      <th>div2</th>\n",
       "      <th>div3</th>\n",
       "      <th>div4</th>\n",
       "      <th>div5</th>\n",
       "      <th>pb</th>\n",
       "    </tr>\n",
       "  </thead>\n",
       "  <tbody>\n",
       "    <tr>\n",
       "      <th>count</th>\n",
       "      <td>78</td>\n",
       "      <td>78</td>\n",
       "      <td>78</td>\n",
       "      <td>78</td>\n",
       "      <td>78</td>\n",
       "      <td>78</td>\n",
       "    </tr>\n",
       "    <tr>\n",
       "      <th>unique</th>\n",
       "      <td>22</td>\n",
       "      <td>29</td>\n",
       "      <td>33</td>\n",
       "      <td>29</td>\n",
       "      <td>23</td>\n",
       "      <td>20</td>\n",
       "    </tr>\n",
       "    <tr>\n",
       "      <th>top</th>\n",
       "      <td>3</td>\n",
       "      <td>16</td>\n",
       "      <td>17</td>\n",
       "      <td>32</td>\n",
       "      <td>49</td>\n",
       "      <td>15</td>\n",
       "    </tr>\n",
       "    <tr>\n",
       "      <th>freq</th>\n",
       "      <td>11</td>\n",
       "      <td>9</td>\n",
       "      <td>5</td>\n",
       "      <td>6</td>\n",
       "      <td>8</td>\n",
       "      <td>7</td>\n",
       "    </tr>\n",
       "  </tbody>\n",
       "</table>\n",
       "</div>"
      ],
      "text/plain": [
       "       div1 div2 div3 div4 div5  pb\n",
       "count    78   78   78   78   78  78\n",
       "unique   22   29   33   29   23  20\n",
       "top       3   16   17   32   49  15\n",
       "freq     11    9    5    6    8   7"
      ]
     },
     "execution_count": 9,
     "metadata": {},
     "output_type": "execute_result"
    }
   ],
   "source": [
    "df.describe()"
   ]
  },
  {
   "cell_type": "markdown",
   "id": "c1d8cb3a",
   "metadata": {},
   "source": [
    "## Top 5 frequest numbers for each div"
   ]
  },
  {
   "cell_type": "code",
   "execution_count": 10,
   "id": "6f87c59a",
   "metadata": {},
   "outputs": [
    {
     "data": {
      "text/plain": [
       "[('1', '11', '21', '32', '42', '11'),\n",
       " ('4', '7', '15', '30', '32', '10'),\n",
       " ('5', '18', '31', '36', '45', '8'),\n",
       " ('5', '16', '27', '32', '46', '18'),\n",
       " ('5', '14', '19', '30', '35', '12')]"
      ]
     },
     "execution_count": 10,
     "metadata": {},
     "output_type": "execute_result"
    }
   ],
   "source": [
    "n = 5\n",
    "df.value_counts()[:n].index.tolist()"
   ]
  },
  {
   "cell_type": "code",
   "execution_count": 11,
   "id": "08cc1ffc",
   "metadata": {},
   "outputs": [
    {
     "data": {
      "text/html": [
       "<div>\n",
       "<style scoped>\n",
       "    .dataframe tbody tr th:only-of-type {\n",
       "        vertical-align: middle;\n",
       "    }\n",
       "\n",
       "    .dataframe tbody tr th {\n",
       "        vertical-align: top;\n",
       "    }\n",
       "\n",
       "    .dataframe thead th {\n",
       "        text-align: right;\n",
       "    }\n",
       "</style>\n",
       "<table border=\"1\" class=\"dataframe\">\n",
       "  <thead>\n",
       "    <tr style=\"text-align: right;\">\n",
       "      <th></th>\n",
       "      <th>div1</th>\n",
       "      <th>div2</th>\n",
       "      <th>div3</th>\n",
       "      <th>div4</th>\n",
       "      <th>div5</th>\n",
       "      <th>pb</th>\n",
       "    </tr>\n",
       "  </thead>\n",
       "  <tbody>\n",
       "    <tr>\n",
       "      <th>0</th>\n",
       "      <td>3</td>\n",
       "      <td>16</td>\n",
       "      <td>17</td>\n",
       "      <td>25</td>\n",
       "      <td>49</td>\n",
       "      <td>15</td>\n",
       "    </tr>\n",
       "    <tr>\n",
       "      <th>1</th>\n",
       "      <td>NaN</td>\n",
       "      <td>NaN</td>\n",
       "      <td>24</td>\n",
       "      <td>32</td>\n",
       "      <td>NaN</td>\n",
       "      <td>NaN</td>\n",
       "    </tr>\n",
       "    <tr>\n",
       "      <th>2</th>\n",
       "      <td>NaN</td>\n",
       "      <td>NaN</td>\n",
       "      <td>NaN</td>\n",
       "      <td>42</td>\n",
       "      <td>NaN</td>\n",
       "      <td>NaN</td>\n",
       "    </tr>\n",
       "  </tbody>\n",
       "</table>\n",
       "</div>"
      ],
      "text/plain": [
       "  div1 div2 div3 div4 div5   pb\n",
       "0    3   16   17   25   49   15\n",
       "1  NaN  NaN   24   32  NaN  NaN\n",
       "2  NaN  NaN  NaN   42  NaN  NaN"
      ]
     },
     "execution_count": 11,
     "metadata": {},
     "output_type": "execute_result"
    }
   ],
   "source": [
    "#can also use mode, however still learning why its different from the top one \n",
    "df.mode()"
   ]
  },
  {
   "cell_type": "code",
   "execution_count": 12,
   "id": "24b056f5",
   "metadata": {},
   "outputs": [
    {
     "data": {
      "text/plain": [
       "div1  div2  div3  div4  div5  pb\n",
       "1     11    21    32    42    11    1\n",
       "4     7     15    30    32    10    1\n",
       "5     18    31    36    45    8     1\n",
       "      16    27    32    46    18    1\n",
       "      14    19    30    35    12    1\n",
       "dtype: int64"
      ]
     },
     "execution_count": 12,
     "metadata": {},
     "output_type": "execute_result"
    }
   ],
   "source": [
    "df.value_counts()[:5].sort_values(ascending=False)"
   ]
  },
  {
   "cell_type": "code",
   "execution_count": 13,
   "id": "aa9302b6",
   "metadata": {},
   "outputs": [
    {
     "data": {
      "text/plain": [
       "3    11\n",
       "Name: div1, dtype: int64"
      ]
     },
     "execution_count": 13,
     "metadata": {},
     "output_type": "execute_result"
    }
   ],
   "source": [
    "df['div1'].value_counts()[df['div1'].value_counts() == df['div1'].value_counts().max()]\n"
   ]
  },
  {
   "cell_type": "code",
   "execution_count": 14,
   "id": "541793b1",
   "metadata": {},
   "outputs": [
    {
     "data": {
      "text/plain": [
       "16    9\n",
       "Name: div2, dtype: int64"
      ]
     },
     "execution_count": 14,
     "metadata": {},
     "output_type": "execute_result"
    }
   ],
   "source": [
    "df['div2'].value_counts()[df['div2'].value_counts() == df['div2'].value_counts().max()]\n"
   ]
  },
  {
   "cell_type": "code",
   "execution_count": 15,
   "id": "530aace0",
   "metadata": {},
   "outputs": [
    {
     "data": {
      "text/plain": [
       "17    5\n",
       "24    5\n",
       "Name: div3, dtype: int64"
      ]
     },
     "execution_count": 15,
     "metadata": {},
     "output_type": "execute_result"
    }
   ],
   "source": [
    "df['div3'].value_counts()[df['div3'].value_counts() == df['div3'].value_counts().max()]\n"
   ]
  },
  {
   "cell_type": "code",
   "execution_count": 16,
   "id": "7d59bc6d",
   "metadata": {},
   "outputs": [
    {
     "data": {
      "text/plain": [
       "49    8\n",
       "Name: div5, dtype: int64"
      ]
     },
     "execution_count": 16,
     "metadata": {},
     "output_type": "execute_result"
    }
   ],
   "source": [
    "df['div5'].value_counts()[df['div5'].value_counts() == df['div5'].value_counts().max()]\n"
   ]
  },
  {
   "cell_type": "code",
   "execution_count": 17,
   "id": "8ca0a4c4",
   "metadata": {},
   "outputs": [
    {
     "data": {
      "text/plain": [
       "15    7\n",
       "Name: pb, dtype: int64"
      ]
     },
     "execution_count": 17,
     "metadata": {},
     "output_type": "execute_result"
    }
   ],
   "source": [
    "df['pb'].value_counts()[df['pb'].value_counts() == df['pb'].value_counts().max()]"
   ]
  },
  {
   "cell_type": "code",
   "execution_count": 18,
   "id": "222913db",
   "metadata": {},
   "outputs": [
    {
     "data": {
      "text/plain": [
       "(78, 6)"
      ]
     },
     "execution_count": 18,
     "metadata": {},
     "output_type": "execute_result"
    }
   ],
   "source": [
    "df.shape"
   ]
  },
  {
   "cell_type": "code",
   "execution_count": 19,
   "id": "97d0e715",
   "metadata": {},
   "outputs": [],
   "source": [
    "# Save dataframe as a csv file to my local computer \n",
    "df.to_csv('PowerBall2021.csv')"
   ]
  },
  {
   "cell_type": "markdown",
   "id": "540a99b2",
   "metadata": {},
   "source": [
    "## Analysis: Diagrams "
   ]
  },
  {
   "cell_type": "code",
   "execution_count": 22,
   "id": "264f2df5",
   "metadata": {},
   "outputs": [
    {
     "data": {
      "image/png": "[encoded data removed]",
      "text/plain": [
       "<Figure size 432x288 with 1 Axes>"
      ]
     },
     "metadata": {
      "needs_background": "light"
     },
     "output_type": "display_data"
    }
   ],
   "source": [
    "plt.hist(df['div1'], bins=48)\n",
    "plt.title('div 1 distribuation')\n",
    "plt.ylabel('Freq')\n",
    "plt.xlabel('div1 No.')\n",
    "plt.show()"
   ]
  },
  {
   "cell_type": "code",
   "execution_count": 43,
   "id": "66e27f63",
   "metadata": {},
   "outputs": [
    {
     "data": {
      "image/png": "[encoded data removed]",
      "text/plain": [
       "<Figure size 1080x576 with 1 Axes>"
      ]
     },
     "metadata": {
      "needs_background": "light"
     },
     "output_type": "display_data"
    }
   ],
   "source": [
    "plt.rcParams[\"figure.figsize\"] = (15,8)\n",
    "plt.hist(df['div2'], bins=48)\n",
    "plt.title('div 2 distribution')\n",
    "plt.ylabel('Freq')\n",
    "plt.xlabel('div2 No.')\n",
    "plt.show()"
   ]
  },
  {
   "cell_type": "code",
   "execution_count": 31,
   "id": "ea72d3f5",
   "metadata": {},
   "outputs": [
    {
     "data": {
      "text/plain": [
       "<AxesSubplot:>"
      ]
     },
     "execution_count": 31,
     "metadata": {},
     "output_type": "execute_result"
    },
    {
     "data": {
      "image/png": "[encoded data removed]",
      "text/plain": [
       "<Figure size 1080x576 with 1 Axes>"
      ]
     },
     "metadata": {
      "needs_background": "light"
     },
     "output_type": "display_data"
    }
   ],
   "source": [
    "df[\"div3\"].hist(bins=48)"
   ]
  },
  {
   "cell_type": "markdown",
   "id": "20e7b94b",
   "metadata": {},
   "source": [
    "## Frequent numbers "
   ]
  },
  {
   "cell_type": "code",
   "execution_count": 64,
   "id": "00bda1dd",
   "metadata": {},
   "outputs": [
    {
     "data": {
      "image/png": "[encoded data removed]",
      "text/plain": [
       "<Figure size 1080x576 with 1 Axes>"
      ]
     },
     "metadata": {
      "needs_background": "light"
     },
     "output_type": "display_data"
    }
   ],
   "source": [
    "plt.rcParams[\"figure.figsize\"] = (15,8)\n",
    "plt.hist(df[['div1','div2', 'div3', 'div4','div5']], bins=120, stacked=True)\n",
    "plt.title('div No. distribution')\n",
    "plt.ylabel('Freq')\n",
    "plt.xlabel('div No.')\n",
    "plt.show()"
   ]
  },
  {
   "cell_type": "code",
   "execution_count": 65,
   "id": "064a6a53",
   "metadata": {},
   "outputs": [
    {
     "data": {
      "image/png": "[encoded data removed]",
      "text/plain": [
       "<Figure size 1080x576 with 1 Axes>"
      ]
     },
     "metadata": {
      "needs_background": "light"
     },
     "output_type": "display_data"
    }
   ],
   "source": [
    "plt.hist([df['div1'],df['div2'], df['div3'], df['div4'], df['div5']],\n",
    "          bins=120, stacked=True, color = ['r','g','y','k', 'b'])\n",
    "plt.title('div no. distribution')\n",
    "plt.ylabel('Freq')\n",
    "plt.xlabel('div No.')\n",
    "plt.show()"
   ]
  },
  {
   "cell_type": "code",
   "execution_count": null,
   "id": "458560c0",
   "metadata": {},
   "outputs": [],
   "source": []
  }
 ],
 "metadata": {
  "kernelspec": {
   "display_name": "Python 3",
   "language": "python",
   "name": "python3"
  },
  "language_info": {
   "codemirror_mode": {
    "name": "ipython",
    "version": 3
   },
   "file_extension": ".py",
   "mimetype": "text/x-python",
   "name": "python",
   "nbconvert_exporter": "python",
   "pygments_lexer": "ipython3",
   "version": "3.8.8"
  }
 },
 "nbformat": 4,
 "nbformat_minor": 5
}
